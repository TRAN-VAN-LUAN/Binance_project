{
 "cells": [
  {
   "cell_type": "code",
   "execution_count": 1,
   "metadata": {},
   "outputs": [],
   "source": [
    "import csv\n",
    "import json\n",
    "\n",
    "csv_file_path = \"BTCUSDT-trades-2024-04-06.csv\"  # Đường dẫn đến file CSV\n",
    "json_file_path = \"../db.json\"  # Đường dẫn đến file JSON muốn lưu\n",
    "\n",
    "# Đọc dữ liệu từ file CSV và chuyển đổi thành danh sách các từ điển\n",
    "data = []\n",
    "with open(csv_file_path, mode='r') as csv_file:\n",
    "    csv_reader = csv.DictReader(csv_file)\n",
    "    for row in csv_reader:\n",
    "        data.append(row)\n",
    "\n",
    "# Ghi dữ liệu dưới dạng JSON vào file\n",
    "with open(json_file_path, mode='w') as json_file:\n",
    "    json_file.write(json.dumps(data, indent=4))"
   ]
  }
 ],
 "metadata": {
  "kernelspec": {
   "display_name": "Python 3",
   "language": "python",
   "name": "python3"
  },
  "language_info": {
   "codemirror_mode": {
    "name": "ipython",
    "version": 3
   },
   "file_extension": ".py",
   "mimetype": "text/x-python",
   "name": "python",
   "nbconvert_exporter": "python",
   "pygments_lexer": "ipython3",
   "version": "3.12.2"
  }
 },
 "nbformat": 4,
 "nbformat_minor": 2
}
